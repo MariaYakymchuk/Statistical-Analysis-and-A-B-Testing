{
 "cells": [
  {
   "cell_type": "markdown",
   "metadata": {
    "id": "e411f482"
   },
   "source": [
    "## A/B Test Analysis"
   ]
  },
  {
   "cell_type": "markdown",
   "metadata": {
    "ExecuteTime": {
     "end_time": "2022-12-10T17:43:42.137588Z",
     "start_time": "2022-12-10T17:43:42.124712Z"
    },
    "id": "f41183ed"
   },
   "source": [
    "We need to analyze the A/B test data from the popular game Cookie Cats. This is a classic “match-three” puzzle game where players must connect tiles of the same color to clear the board and win a level. The board also features singing cats :)\n",
    "\n",
    "During gameplay, players encounter gates that require them to wait for a certain time before progressing or making an in-app purchase. In this task, we will analyze the results of an A/B test where the first gate in Cookie Cats was moved from level 30 to level 40. Specifically, we aim to assess the impact on player retention. In other words, we want to understand whether moving the gate 10 levels later affects when players stop playing the game, measured by the number of days since they installed it.\n",
    "\n",
    "We will work with data from the cookie_cats.csv file. The variables in the dataset are as follows:\n",
    "\t•\tuserid: A unique identifier for each player.\n",
    "\t•\tversion: Indicates whether the player was in the control group (gate_30 - gate at level 30) or the test group (gate_40 - gate at level 40).\n",
    "\t•\tsum_gamerounds: The number of game rounds played by the player during the first week after installation.\n",
    "\t•\tretention_1: Whether the player returned to play the game one day after installation.\n",
    "\t•\tretention_7: Whether the player returned to play the game seven days after installation.\n",
    "\n",
    "When a player installed the game, they were randomly assigned to either the gate_30 or gate_40 group."
   ]
  },
  {
   "cell_type": "markdown",
   "metadata": {
    "id": "22f03df4"
   },
   "source": [
    "<span style=\"font-size: 16px; font-weight: bold;\">1. \tWe load the A/B test data into the variable df and output the average value of the retention_7 metric (7-day retention) by game version.</span>"
   ]
  },
  {
   "cell_type": "code",
   "execution_count": 1,
   "metadata": {
    "id": "MVzMTs-jh22b"
   },
   "outputs": [],
   "source": [
    "import pandas as pd"
   ]
  },
  {
   "cell_type": "code",
   "execution_count": 3,
   "metadata": {},
   "outputs": [],
   "source": [
    "df = pd.read_csv('../Data/data_statistics/cookie_cats.csv')"
   ]
  },
  {
   "cell_type": "code",
   "execution_count": 5,
   "metadata": {},
   "outputs": [
    {
     "data": {
      "text/html": [
       "<div>\n",
       "<style scoped>\n",
       "    .dataframe tbody tr th:only-of-type {\n",
       "        vertical-align: middle;\n",
       "    }\n",
       "\n",
       "    .dataframe tbody tr th {\n",
       "        vertical-align: top;\n",
       "    }\n",
       "\n",
       "    .dataframe thead th {\n",
       "        text-align: right;\n",
       "    }\n",
       "</style>\n",
       "<table border=\"1\" class=\"dataframe\">\n",
       "  <thead>\n",
       "    <tr style=\"text-align: right;\">\n",
       "      <th></th>\n",
       "      <th>userid</th>\n",
       "      <th>version</th>\n",
       "      <th>sum_gamerounds</th>\n",
       "      <th>retention_1</th>\n",
       "      <th>retention_7</th>\n",
       "    </tr>\n",
       "  </thead>\n",
       "  <tbody>\n",
       "    <tr>\n",
       "      <th>0</th>\n",
       "      <td>116</td>\n",
       "      <td>gate_30</td>\n",
       "      <td>3</td>\n",
       "      <td>False</td>\n",
       "      <td>False</td>\n",
       "    </tr>\n",
       "    <tr>\n",
       "      <th>1</th>\n",
       "      <td>337</td>\n",
       "      <td>gate_30</td>\n",
       "      <td>38</td>\n",
       "      <td>True</td>\n",
       "      <td>False</td>\n",
       "    </tr>\n",
       "    <tr>\n",
       "      <th>2</th>\n",
       "      <td>377</td>\n",
       "      <td>gate_40</td>\n",
       "      <td>165</td>\n",
       "      <td>True</td>\n",
       "      <td>False</td>\n",
       "    </tr>\n",
       "    <tr>\n",
       "      <th>3</th>\n",
       "      <td>483</td>\n",
       "      <td>gate_40</td>\n",
       "      <td>1</td>\n",
       "      <td>False</td>\n",
       "      <td>False</td>\n",
       "    </tr>\n",
       "    <tr>\n",
       "      <th>4</th>\n",
       "      <td>488</td>\n",
       "      <td>gate_40</td>\n",
       "      <td>179</td>\n",
       "      <td>True</td>\n",
       "      <td>True</td>\n",
       "    </tr>\n",
       "  </tbody>\n",
       "</table>\n",
       "</div>"
      ],
      "text/plain": [
       "   userid  version  sum_gamerounds  retention_1  retention_7\n",
       "0     116  gate_30               3        False        False\n",
       "1     337  gate_30              38         True        False\n",
       "2     377  gate_40             165         True        False\n",
       "3     483  gate_40               1        False        False\n",
       "4     488  gate_40             179         True         True"
      ]
     },
     "execution_count": 5,
     "metadata": {},
     "output_type": "execute_result"
    }
   ],
   "source": [
    "df.head()"
   ]
  },
  {
   "cell_type": "code",
   "execution_count": 7,
   "metadata": {},
   "outputs": [
    {
     "name": "stdout",
     "output_type": "stream",
     "text": [
      "It is 0 users who appear multiple times in the dataset..\n"
     ]
    }
   ],
   "source": [
    "session_counts = df['userid'].value_counts(ascending=False)\n",
    "multi_users = session_counts[session_counts > 1].count()\n",
    "\n",
    "print(f'It is {multi_users} users who appear multiple times in the dataset..')"
   ]
  },
  {
   "cell_type": "code",
   "execution_count": 9,
   "metadata": {},
   "outputs": [],
   "source": [
    "average_retention_7 = df.groupby('version')['retention_7'].mean()"
   ]
  },
  {
   "cell_type": "code",
   "execution_count": 11,
   "metadata": {},
   "outputs": [
    {
     "name": "stdout",
     "output_type": "stream",
     "text": [
      "version\n",
      "gate_30    0.190201\n",
      "gate_40    0.182000\n",
      "Name: retention_7, dtype: float64\n"
     ]
    }
   ],
   "source": [
    "print(average_retention_7)"
   ]
  },
  {
   "cell_type": "markdown",
   "metadata": {},
   "source": [
    "<span style=\"color: #388E3C; font-size: 16px; font-weight: bold;\">gate_30 has an average retention rate of 0.190201 (or approximately 19%). This means that 19% of users who played the game version with the gate_30 parameter returned to the game 7 days after installation. gate_40 has an average retention rate of 0.182000 (or approximately 18%). This means that 18% of users who played the game version with the gate_40 parameter returned to the game 7 days after installation. Hypothesis: The gate_30 version provides a 1% better retention rate 7 days after installation.</span>"
   ]
  },
  {
   "cell_type": "markdown",
   "metadata": {
    "id": "74e9c6ca"
   },
   "source": [
    "<span style=\"font-size: 16px; font-weight: bold;\">2. We check using a z-test whether one version of the game provides a better retention_7 rate at a significance level of 0.05. We also calculate confidence intervals for the two samples.</span>"
   ]
  },
  {
   "cell_type": "code",
   "execution_count": 13,
   "metadata": {
    "id": "kXQE4gyjh5MS"
   },
   "outputs": [],
   "source": [
    "import numpy as np\n",
    "import statsmodels.stats.api as sms\n",
    "from statsmodels.stats.proportion import proportions_ztest, proportion_confint"
   ]
  },
  {
   "cell_type": "code",
   "execution_count": 15,
   "metadata": {},
   "outputs": [
    {
     "name": "stdout",
     "output_type": "stream",
     "text": [
      "z statistic: 3.16\n",
      "p-value: 0.002\n",
      "The 95% confidence interval for the gate_30 group is: [0.178, 0.187]\n",
      "The 95% confidence interval for the gate_40 group is:: [0.186, 0.194]\n"
     ]
    }
   ],
   "source": [
    "df_gate_30 = df[df['version'] == 'gate_30']\n",
    "df_gate_40 = df[df['version'] == 'gate_40']\n",
    "\n",
    "n_gate_30 = df_gate_30['retention_7'].count()\n",
    "n_gate_40 = df_gate_40['retention_7'].count()\n",
    "\n",
    "successes_gate_30 = df_gate_30['retention_7'].sum()\n",
    "successes_gate_40 = df_gate_40['retention_7'].sum()\n",
    "\n",
    "successes = [successes_gate_30, successes_gate_40]\n",
    "nobs = [n_gate_30, n_gate_40]\n",
    "\n",
    "z_stat, pval = proportions_ztest(successes, nobs=nobs)\n",
    "\n",
    "(lower_gate_30, upper_gate_30), (lower_gate_40, upper_gate_40) = proportion_confint(successes, nobs, alpha=0.05)\n",
    "\n",
    "if lower_gate_30 > upper_gate_30:\n",
    "    lower_gate_30, upper_gate_30 = upper_gate_30, lower_gate_30\n",
    "\n",
    "if lower_gate_40 > upper_gate_40:\n",
    "    lower_gate_40, upper_gate_40 = upper_gate_40, lower_gate_40\n",
    "\n",
    "print(f'z statistic: {z_stat:.2f}')\n",
    "print(f'p-value: {pval:.3f}')\n",
    "print(f'The 95% confidence interval for the gate_30 group is: [{lower_gate_30:.3f}, {upper_gate_30:.3f}]')\n",
    "print(f'The 95% confidence interval for the gate_40 group is:: [{lower_gate_40:.3f}, {upper_gate_40:.3f}]')"
   ]
  },
  {
   "cell_type": "markdown",
   "metadata": {},
   "source": [
    "<span style=\"color: #388E3C; font-size: 16px; font-weight: bold;\">The p-value (0.002) is significantly less than 0.05. This means we can reject the null hypothesis (which states that there is no difference in user retention between the two groups). Yes, there is a statistically significant difference in user behavior between the two versions of the game. The two confidence intervals partially overlap, as the lower bound of the gate_40 group (0.186) is only slightly above the upper bound of the gate_30 group (0.187). This suggests that, while there is some probability that the average retention rates in these groups might be similar, the intervals overall indicate that the gate_40 group has a higher retention rate. These findings further support our conclusion that we can reject H₀.</span>"
   ]
  },
  {
   "cell_type": "markdown",
   "metadata": {
    "ExecuteTime": {
     "end_time": "2022-12-10T20:50:10.709766Z",
     "start_time": "2022-12-10T20:50:10.639999Z"
    },
    "id": "076cd867"
   },
   "source": [
    "<span style=\"font-size: 16px; font-weight: bold;\">3. Chi-square test.</span>"
   ]
  },
  {
   "cell_type": "code",
   "execution_count": 17,
   "metadata": {
    "id": "kcwD-91Fh84n"
   },
   "outputs": [],
   "source": [
    "from scipy.stats import chi2_contingency"
   ]
  },
  {
   "cell_type": "code",
   "execution_count": 19,
   "metadata": {},
   "outputs": [
    {
     "name": "stdout",
     "output_type": "stream",
     "text": [
      "p-значення: 0.002\n",
      "We reject the null hypothesis: there is a dependency between the game version and the retention_7 value.\n"
     ]
    }
   ],
   "source": [
    "contingency_table = pd.crosstab(df['version'], df['retention_7'])\n",
    "\n",
    "chi2_stat, p_value, dof, expected = chi2_contingency(contingency_table)\n",
    "\n",
    "print(f'p-значення: {p_value:.3f}')\n",
    "\n",
    "alpha = 0.05 \n",
    "if p_value < alpha:\n",
    "    print(\"We reject the null hypothesis: there is a dependency between the game version and the retention_7 value.\")\n",
    "else:\n",
    "    print(\"We fail to reject the null hypothesis: the retention_7 value does not depend on the game version.\")"
   ]
  },
  {
   "cell_type": "markdown",
   "metadata": {},
   "source": [
    "<span style=\"color: #388E3C; font-size: 16px; font-weight: bold;\">Rejecting the null hypothesis indicates that there is a statistically significant relationship between the game version and user retention after 7 days. Thus, this test further supports the validity of our previous hypothesis, confirming that we reject the null hypothesis. There are sufficiently significant results indicating that the alternative game version (gate_40) retains players better.</span>"
   ]
  }
 ],
 "metadata": {
  "colab": {
   "provenance": []
  },
  "kernelspec": {
   "display_name": "Python 3 (ipykernel)",
   "language": "python",
   "name": "python3"
  },
  "language_info": {
   "codemirror_mode": {
    "name": "ipython",
    "version": 3
   },
   "file_extension": ".py",
   "mimetype": "text/x-python",
   "name": "python",
   "nbconvert_exporter": "python",
   "pygments_lexer": "ipython3",
   "version": "3.12.4"
  }
 },
 "nbformat": 4,
 "nbformat_minor": 4
}
